{
  "nbformat": 4,
  "nbformat_minor": 0,
  "metadata": {
    "colab": {
      "name": "gourav numpy practice.ipynb",
      "provenance": [],
      "collapsed_sections": []
    },
    "kernelspec": {
      "name": "python3",
      "display_name": "Python 3"
    },
    "language_info": {
      "name": "python"
    }
  },
  "cells": [
    {
      "cell_type": "code",
      "metadata": {
        "colab": {
          "base_uri": "https://localhost:8080/"
        },
        "id": "nlv3ZS6hZC2v",
        "outputId": "64f53aad-e80c-42d4-fc25-d30129d50137"
      },
      "source": [
        "import numpy as np\n",
        "arr=np.array([[[1,2,3],[4,5,6]],[[7,8,9],[10,11,12]]])\n",
        "arr\n",
        "print(arr.shape)"
      ],
      "execution_count": 4,
      "outputs": [
        {
          "output_type": "stream",
          "text": [
            "(2, 2, 3)\n"
          ],
          "name": "stdout"
        }
      ]
    },
    {
      "cell_type": "code",
      "metadata": {
        "colab": {
          "base_uri": "https://localhost:8080/"
        },
        "id": "JAWBi50ZZZQ2",
        "outputId": "227ba86e-e180-4a02-f055-ebaa2fbd9917"
      },
      "source": [
        "import numpy as np\n",
        "arr1=np.array([1,2,3,4,5,6,7,8])\n",
        "print(arr1[0:7:2])"
      ],
      "execution_count": 9,
      "outputs": [
        {
          "output_type": "stream",
          "text": [
            "[1 3 5 7]\n"
          ],
          "name": "stdout"
        }
      ]
    },
    {
      "cell_type": "code",
      "metadata": {
        "colab": {
          "base_uri": "https://localhost:8080/"
        },
        "id": "alhRsOjJZ01f",
        "outputId": "61eca8ae-3651-4662-8cc6-94358fafca72"
      },
      "source": [
        "import numpy as np\n",
        "arr1=np.array([1,2,3,4,5,6,7,8])\n",
        "print(arr1[-5:-1])"
      ],
      "execution_count": 14,
      "outputs": [
        {
          "output_type": "stream",
          "text": [
            "[4 5 6 7]\n"
          ],
          "name": "stdout"
        }
      ]
    },
    {
      "cell_type": "code",
      "metadata": {
        "colab": {
          "base_uri": "https://localhost:8080/"
        },
        "id": "8A4ehA13cRqs",
        "outputId": "3f9850e8-9acb-4890-aa68-3388aa62721d"
      },
      "source": [
        "import numpy as np\n",
        "arr2=np.array([1,2,3,4,5,6,7,8,9,10,11,12])\n",
        "newarr=arr2.reshape(4,3)\n",
        "newarr"
      ],
      "execution_count": 16,
      "outputs": [
        {
          "output_type": "execute_result",
          "data": {
            "text/plain": [
              "array([[ 1,  2,  3],\n",
              "       [ 4,  5,  6],\n",
              "       [ 7,  8,  9],\n",
              "       [10, 11, 12]])"
            ]
          },
          "metadata": {
            "tags": []
          },
          "execution_count": 16
        }
      ]
    },
    {
      "cell_type": "code",
      "metadata": {
        "colab": {
          "base_uri": "https://localhost:8080/"
        },
        "id": "N7AHKOE0firU",
        "outputId": "47b67a47-118a-483e-8912-ad29b208ecb6"
      },
      "source": [
        "import numpy as np\n",
        "arr4=np.array([1,2,3])\n",
        "arr5=np.array([4,5,6])\n",
        "arr6=np.concatenate((arr4,arr5))\n",
        "print(arr6)"
      ],
      "execution_count": 21,
      "outputs": [
        {
          "output_type": "stream",
          "text": [
            "[1 2 3 4 5 6]\n"
          ],
          "name": "stdout"
        }
      ]
    },
    {
      "cell_type": "code",
      "metadata": {
        "colab": {
          "base_uri": "https://localhost:8080/"
        },
        "id": "jbXmLyXThRWC",
        "outputId": "3c5053a5-1521-4ca1-f190-1dffb4c19a18"
      },
      "source": [
        "import numpy as np\n",
        "arr7=np.array([1,2,3,4,5,6,7,8,9,10,11,12])\n",
        "newarr=np.array_split(arr7,4)\n",
        "print(newarr)"
      ],
      "execution_count": 22,
      "outputs": [
        {
          "output_type": "stream",
          "text": [
            "[array([1, 2, 3]), array([4, 5, 6]), array([7, 8, 9]), array([10, 11, 12])]\n"
          ],
          "name": "stdout"
        }
      ]
    },
    {
      "cell_type": "code",
      "metadata": {
        "colab": {
          "base_uri": "https://localhost:8080/"
        },
        "id": "Ly1bYhb-jBuN",
        "outputId": "4e19fbca-3299-42db-801f-964717ed356e"
      },
      "source": [
        "import numpy as np\n",
        "arr8=np.array([1,2,3,4,4,5,6,7,4,4,8,9,10,11,4,4,12])\n",
        "x=np.where(arr8==4)\n",
        "print(x)"
      ],
      "execution_count": 28,
      "outputs": [
        {
          "output_type": "stream",
          "text": [
            "(array([ 3,  4,  8,  9, 14, 15]),)\n"
          ],
          "name": "stdout"
        }
      ]
    },
    {
      "cell_type": "code",
      "metadata": {
        "colab": {
          "base_uri": "https://localhost:8080/"
        },
        "id": "Ho4wCeIukFPz",
        "outputId": "849ea89f-155d-4747-fd91-031e214a9c8d"
      },
      "source": [
        "import numpy as np\n",
        "arr9=np.array([3,2,1,4,6,5,7,9,8])\n",
        "print(np.sort(arr9))"
      ],
      "execution_count": 29,
      "outputs": [
        {
          "output_type": "stream",
          "text": [
            "[1 2 3 4 5 6 7 8 9]\n"
          ],
          "name": "stdout"
        }
      ]
    },
    {
      "cell_type": "code",
      "metadata": {
        "colab": {
          "base_uri": "https://localhost:8080/"
        },
        "id": "qfMOjLxzlT8j",
        "outputId": "407cef55-19b9-41de-8fd3-744e78bee1f5"
      },
      "source": [
        "arr10=np.array([1,2,3,4])\n",
        "x=[True,True,False,False]\n",
        "newarr=arr10[x]\n",
        "print(newarr)"
      ],
      "execution_count": 30,
      "outputs": [
        {
          "output_type": "stream",
          "text": [
            "[1 2]\n"
          ],
          "name": "stdout"
        }
      ]
    },
    {
      "cell_type": "code",
      "metadata": {
        "colab": {
          "base_uri": "https://localhost:8080/"
        },
        "id": "QsxRhUuVmZ30",
        "outputId": "641ce408-0047-40da-9173-87fb2c60dad3"
      },
      "source": [
        "from numpy import random\n",
        "y=random.randint(100,size=(3,4))\n",
        "print(y)"
      ],
      "execution_count": 32,
      "outputs": [
        {
          "output_type": "stream",
          "text": [
            "[[12 48 79 75]\n",
            " [ 8 18 48 91]\n",
            " [71 16 53 87]]\n"
          ],
          "name": "stdout"
        }
      ]
    },
    {
      "cell_type": "code",
      "metadata": {
        "colab": {
          "base_uri": "https://localhost:8080/"
        },
        "id": "_Bq1JJDvoKZy",
        "outputId": "9e0261dc-7140-4576-e0ae-c8edfc67be2b"
      },
      "source": [
        "from numpy import random\n",
        "y=random.rand(4)\n",
        "print(y)"
      ],
      "execution_count": 34,
      "outputs": [
        {
          "output_type": "stream",
          "text": [
            "[0.40157249 0.02947284 0.36721217 0.00310688]\n"
          ],
          "name": "stdout"
        }
      ]
    },
    {
      "cell_type": "code",
      "metadata": {
        "colab": {
          "base_uri": "https://localhost:8080/"
        },
        "id": "Ro-52n6apa5X",
        "outputId": "646394be-1a5f-4a30-cd33-529f4a62639c"
      },
      "source": [
        "A=np.array([1,2,3])\n",
        "B=np.array([2,3,4])\n",
        "print(np.dot(A,B))"
      ],
      "execution_count": 35,
      "outputs": [
        {
          "output_type": "stream",
          "text": [
            "20\n"
          ],
          "name": "stdout"
        }
      ]
    },
    {
      "cell_type": "code",
      "metadata": {
        "id": "shxqb6NY3WHd"
      },
      "source": [
        ""
      ],
      "execution_count": null,
      "outputs": []
    }
  ]
}